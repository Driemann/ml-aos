{
 "cells": [
  {
   "cell_type": "code",
   "execution_count": null,
   "metadata": {},
   "outputs": [],
   "source": [
    "from ml_aos.dataloader import DavidsDonuts as Donuts\n",
    "import matplotlib.pyplot as plt\n",
    "import numpy as np"
   ]
  },
  {
   "cell_type": "markdown",
   "metadata": {},
   "source": [
    "### Unblended donuts (500k)"
   ]
  },
  {
   "cell_type": "code",
   "execution_count": null,
   "metadata": {},
   "outputs": [],
   "source": [
    "d = Donuts()\n",
    "\n",
    "fig, axes = plt.subplots(5, 5, figsize=(10, 9), constrained_layout=True, dpi=120)\n",
    "\n",
    "for i, ax in enumerate(axes.flatten()):\n",
    "\n",
    "    ax.imshow(d[i][\"image\"].squeeze())\n",
    "    ax.set(xticks=[], yticks=[])"
   ]
  },
  {
   "cell_type": "markdown",
   "metadata": {},
   "source": [
    "### Blended donuts (100k)\n",
    "\n",
    "Some problems:\n",
    "1. edge artifacts due to dithering\n",
    "2. some blends are super blended\n",
    "3. the target donut isn't always the brightest donut\n",
    "\n",
    "![Original blends](https://github.com/jfcrenshaw/ml-aos/releases/download/media/original_blends.png)"
   ]
  },
  {
   "cell_type": "markdown",
   "metadata": {},
   "source": [
    "#### Problem 1: edge artifacts due to dithering\n",
    "\n",
    "Fixed dithering to eliminate artifacts"
   ]
  },
  {
   "cell_type": "code",
   "execution_count": null,
   "metadata": {},
   "outputs": [],
   "source": [
    "d = Donuts(\n",
    "    max_blend = 1,\n",
    "    center_brightest = False,\n",
    ")\n",
    "\n",
    "fig, axes = plt.subplots(5, 5, figsize=(10, 9), constrained_layout=True, dpi=120)\n",
    "\n",
    "for i, ax in enumerate(axes.flatten()):\n",
    "\n",
    "    ax.imshow(d[d.N_unblended+i][\"image\"].squeeze())\n",
    "    ax.set(xticks=[], yticks=[])"
   ]
  },
  {
   "cell_type": "markdown",
   "metadata": {},
   "source": [
    "#### Problem 2: some blends are super blended\n",
    "\n",
    "Parameter to specify max blend fraction. Doesn't cut sims with more blending - just doesn't draw the extra stars."
   ]
  },
  {
   "cell_type": "code",
   "execution_count": null,
   "metadata": {},
   "outputs": [],
   "source": [
    "d = Donuts(\n",
    "    max_blend = 0.35,\n",
    "    center_brightest = False,\n",
    ")\n",
    "\n",
    "fig, axes = plt.subplots(5, 5, figsize=(10, 9), constrained_layout=True, dpi=120)\n",
    "\n",
    "for i, ax in enumerate(axes.flatten()):\n",
    "\n",
    "    ax.imshow(d[d.N_unblended+i][\"image\"].squeeze())\n",
    "    ax.set(xticks=[], yticks=[])"
   ]
  },
  {
   "cell_type": "markdown",
   "metadata": {},
   "source": [
    "#### Problem 3: the target donut isn't always the brightest donut\n",
    "\n",
    "Flag to always center the brightest donut. This makes some blends very lopsided."
   ]
  },
  {
   "cell_type": "code",
   "execution_count": null,
   "metadata": {},
   "outputs": [],
   "source": [
    "d = Donuts(\n",
    "    max_blend = 0.35,\n",
    "    center_brightest = True,\n",
    ")\n",
    "\n",
    "fig, axes = plt.subplots(5, 5, figsize=(10, 9), constrained_layout=True, dpi=120)\n",
    "\n",
    "for i, ax in enumerate(axes.flatten()):\n",
    "\n",
    "    ax.imshow(d[d.N_unblended+i][\"image\"].squeeze())\n",
    "    ax.set(xticks=[], yticks=[])"
   ]
  },
  {
   "cell_type": "markdown",
   "metadata": {},
   "source": [
    "#### Each image also comes with a mask for the unblended region of the central donut"
   ]
  },
  {
   "cell_type": "code",
   "execution_count": null,
   "metadata": {},
   "outputs": [],
   "source": [
    "d = Donuts(\n",
    "    max_blend = 0.35,\n",
    "    center_brightest = True,\n",
    ")\n",
    "\n",
    "fig, axes = plt.subplots(5, 5, figsize=(10, 9), constrained_layout=True, dpi=120)\n",
    "\n",
    "for i, ax in enumerate(axes.flatten()):\n",
    "\n",
    "    img = d[d.N_unblended+i][\"image\"].squeeze()\n",
    "    mask = d[d.N_unblended+i][\"mask\"].squeeze()\n",
    "    img = img.masked_fill(~mask, np.nan)\n",
    "    ax.imshow(img)\n",
    "    ax.set(xticks=[], yticks=[])"
   ]
  },
  {
   "cell_type": "markdown",
   "metadata": {},
   "source": [
    "#### You can also add a buffer around the masks\n",
    "\n",
    "This is useful since the masks won't be perfect due to miscentering."
   ]
  },
  {
   "cell_type": "code",
   "execution_count": null,
   "metadata": {},
   "outputs": [],
   "source": [
    "d = Donuts(\n",
    "    max_blend = 0.35,\n",
    "    center_brightest = True,\n",
    "    mask_buffer = 5,\n",
    ")\n",
    "\n",
    "fig, axes = plt.subplots(5, 5, figsize=(10, 9), constrained_layout=True, dpi=120)\n",
    "\n",
    "for i, ax in enumerate(axes.flatten()):\n",
    "\n",
    "    img = d[d.N_unblended+i][\"image\"].squeeze()\n",
    "    mask = d[d.N_unblended+i][\"mask\"].squeeze()\n",
    "    img = img.masked_fill(~mask, np.nan)\n",
    "    ax.imshow(img)\n",
    "    ax.set(xticks=[], yticks=[])"
   ]
  },
  {
   "cell_type": "code",
   "execution_count": null,
   "metadata": {},
   "outputs": [],
   "source": []
  }
 ],
 "metadata": {
  "kernelspec": {
   "display_name": "Python 3.9.10 ('ml-aos-hdh9ePBz-py3.9')",
   "language": "python",
   "name": "python3"
  },
  "language_info": {
   "codemirror_mode": {
    "name": "ipython",
    "version": 3
   },
   "file_extension": ".py",
   "mimetype": "text/x-python",
   "name": "python",
   "nbconvert_exporter": "python",
   "pygments_lexer": "ipython3",
   "version": "3.9.10"
  },
  "orig_nbformat": 4,
  "vscode": {
   "interpreter": {
    "hash": "c7621bc54e99e1ff3f772c7bbef43a1313cf47b6fcb1d7d96efef7f943746a22"
   }
  }
 },
 "nbformat": 4,
 "nbformat_minor": 2
}
