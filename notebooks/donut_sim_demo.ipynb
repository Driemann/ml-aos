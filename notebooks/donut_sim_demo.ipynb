{
 "cells": [
  {
   "cell_type": "code",
   "execution_count": 1,
   "metadata": {},
   "outputs": [],
   "source": [
    "from ml_aos.dataloader import Donuts\n",
    "import matplotlib.pyplot as plt"
   ]
  },
  {
   "cell_type": "markdown",
   "metadata": {},
   "source": [
    "### Unblended donuts (500k)"
   ]
  },
  {
   "cell_type": "code",
   "execution_count": null,
   "metadata": {},
   "outputs": [],
   "source": [
    "d = Donuts()\n",
    "\n",
    "fig, axes = plt.subplots(5, 5, figsize=(10, 9), constrained_layout=True, dpi=120)\n",
    "\n",
    "for i, ax in enumerate(axes.flatten()):\n",
    "\n",
    "    ax.imshow(d[i][\"image\"].squeeze())\n",
    "    ax.set(xticks=[], yticks=[])"
   ]
  },
  {
   "cell_type": "markdown",
   "metadata": {},
   "source": [
    "### Blended donuts (100k)\n",
    "\n",
    "Some problems:\n",
    "1. edge artifacts due to dithering\n",
    "2. some blends are super blended\n",
    "3. the target donut isn't always the brightest donut\n",
    "\n",
    "![Original blends](https://github.com/jfcrenshaw/ml-aos/releases/download/media/original_blends.png)"
   ]
  },
  {
   "cell_type": "markdown",
   "metadata": {},
   "source": [
    "#### Problem 1: edge artifacts due to dithering\n",
    "\n",
    "Fixed dithering to eliminate artifacts"
   ]
  },
  {
   "cell_type": "code",
   "execution_count": null,
   "metadata": {},
   "outputs": [],
   "source": [
    "d = Donuts(\n",
    "    max_blend = 1,\n",
    "    mask_blends = False,\n",
    "    center_brightest = False,\n",
    ")\n",
    "\n",
    "fig, axes = plt.subplots(5, 5, figsize=(10, 9), constrained_layout=True, dpi=120)\n",
    "\n",
    "for i, ax in enumerate(axes.flatten()):\n",
    "\n",
    "    ax.imshow(d[d.N_unblended+i][\"image\"].squeeze())\n",
    "    ax.set(xticks=[], yticks=[])"
   ]
  },
  {
   "cell_type": "markdown",
   "metadata": {},
   "source": [
    "#### Problem 2: some blends are super blended\n",
    "\n",
    "Parameter to specify max blend fraction. Doesn't cut sims with more blending - just doesn't draw the extra stars."
   ]
  },
  {
   "cell_type": "code",
   "execution_count": null,
   "metadata": {},
   "outputs": [],
   "source": [
    "d = Donuts(\n",
    "    max_blend = 0.35,\n",
    "    mask_blends = False,\n",
    "    center_brightest = False,\n",
    ")\n",
    "\n",
    "fig, axes = plt.subplots(5, 5, figsize=(10, 9), constrained_layout=True, dpi=120)\n",
    "\n",
    "for i, ax in enumerate(axes.flatten()):\n",
    "\n",
    "    ax.imshow(d[d.N_unblended+i][\"image\"].squeeze())\n",
    "    ax.set(xticks=[], yticks=[])"
   ]
  },
  {
   "cell_type": "markdown",
   "metadata": {},
   "source": [
    "#### Problem 3: the target donut isn't always the brightest donut\n",
    "\n",
    "Flag to always center the brightest donut. This makes some blends very lopsided."
   ]
  },
  {
   "cell_type": "code",
   "execution_count": null,
   "metadata": {},
   "outputs": [],
   "source": [
    "d = Donuts(\n",
    "    max_blend = 0.35,\n",
    "    mask_blends = False,\n",
    "    center_brightest = True,\n",
    ")\n",
    "\n",
    "fig, axes = plt.subplots(5, 5, figsize=(10, 9), constrained_layout=True, dpi=120)\n",
    "\n",
    "for i, ax in enumerate(axes.flatten()):\n",
    "\n",
    "    ax.imshow(d[d.N_unblended+i][\"image\"].squeeze())\n",
    "    ax.set(xticks=[], yticks=[])"
   ]
  },
  {
   "cell_type": "markdown",
   "metadata": {},
   "source": [
    "#### You can also mask the blends"
   ]
  },
  {
   "cell_type": "code",
   "execution_count": null,
   "metadata": {},
   "outputs": [],
   "source": [
    "d = Donuts(\n",
    "    max_blend = 0.35,\n",
    "    mask_blends = True,\n",
    "    center_brightest = True,\n",
    ")\n",
    "\n",
    "fig, axes = plt.subplots(5, 5, figsize=(10, 9), constrained_layout=True, dpi=120)\n",
    "\n",
    "for i, ax in enumerate(axes.flatten()):\n",
    "\n",
    "    ax.imshow(d[d.N_unblended+i][\"image\"].squeeze())\n",
    "    ax.set(xticks=[], yticks=[])"
   ]
  },
  {
   "cell_type": "code",
   "execution_count": null,
   "metadata": {},
   "outputs": [],
   "source": []
  }
 ],
 "metadata": {
  "interpreter": {
   "hash": "71e4278202db3d2ed61fbb05c52214017f0bf975094401deca5a791f03310394"
  },
  "kernelspec": {
   "display_name": "Python 3.9.9 64-bit ('mlaos': conda)",
   "language": "python",
   "name": "python3"
  },
  "language_info": {
   "codemirror_mode": {
    "name": "ipython",
    "version": 3
   },
   "file_extension": ".py",
   "mimetype": "text/x-python",
   "name": "python",
   "nbconvert_exporter": "python",
   "pygments_lexer": "ipython3",
   "version": "3.9.9"
  },
  "orig_nbformat": 4
 },
 "nbformat": 4,
 "nbformat_minor": 2
}
