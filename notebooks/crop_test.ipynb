{
 "cells": [
  {
   "cell_type": "code",
   "execution_count": null,
   "metadata": {},
   "outputs": [],
   "source": [
    "from ml_aos.dataloader import Donuts\n",
    "import matplotlib.pyplot as plt"
   ]
  },
  {
   "cell_type": "markdown",
   "metadata": {},
   "source": [
    "The original images are 256x256. Note they have large borders around the central donut."
   ]
  },
  {
   "cell_type": "code",
   "execution_count": null,
   "metadata": {},
   "outputs": [],
   "source": [
    "d = Donuts()\n",
    "\n",
    "fig, axes = plt.subplots(5, 5, figsize=(10, 9), constrained_layout=True, dpi=120)\n",
    "\n",
    "for i, ax in enumerate(axes.flatten()):\n",
    "\n",
    "    img = d[i][\"image\"].squeeze()\n",
    "\n",
    "    ax.imshow(img)\n",
    "    ax.set(xticks=[], yticks=[])"
   ]
  },
  {
   "cell_type": "markdown",
   "metadata": {},
   "source": [
    "I think David probably had these large borders, because if you go down to the next power of 2 (i.e. 128x128), then you start cutting off the donuts."
   ]
  },
  {
   "cell_type": "code",
   "execution_count": null,
   "metadata": {},
   "outputs": [],
   "source": [
    "d = Donuts()\n",
    "\n",
    "fig, axes = plt.subplots(5, 5, figsize=(10, 9), constrained_layout=True, dpi=120)\n",
    "\n",
    "for i, ax in enumerate(axes.flatten()):\n",
    "\n",
    "    img = d[i][\"image\"].squeeze()\n",
    "    crop = 128 // 2\n",
    "    img = img[crop:-crop, crop:-crop]\n",
    "\n",
    "    ax.imshow(img)\n",
    "    ax.set(xticks=[], yticks=[])"
   ]
  },
  {
   "cell_type": "markdown",
   "metadata": {},
   "source": [
    "This is probably a good crop size, but the resulting images aren't a power of 2. This might create problems during downsampling. I will want to think about this some more before doing this."
   ]
  },
  {
   "cell_type": "code",
   "execution_count": null,
   "metadata": {},
   "outputs": [],
   "source": [
    "d = Donuts()\n",
    "\n",
    "fig, axes = plt.subplots(5, 5, figsize=(10, 9), constrained_layout=True, dpi=120)\n",
    "\n",
    "for i, ax in enumerate(axes.flatten()):\n",
    "\n",
    "    img = d[i][\"image\"].squeeze()\n",
    "    crop = 45\n",
    "    img = img[crop:-crop, crop:-crop]\n",
    "\n",
    "    ax.imshow(img)\n",
    "    ax.set(xticks=[], yticks=[])"
   ]
  },
  {
   "cell_type": "code",
   "execution_count": null,
   "metadata": {},
   "outputs": [],
   "source": []
  }
 ],
 "metadata": {
  "interpreter": {
   "hash": "71e4278202db3d2ed61fbb05c52214017f0bf975094401deca5a791f03310394"
  },
  "kernelspec": {
   "display_name": "Python 3.9.9 64-bit ('mlaos': conda)",
   "language": "python",
   "name": "python3"
  },
  "language_info": {
   "codemirror_mode": {
    "name": "ipython",
    "version": 3
   },
   "file_extension": ".py",
   "mimetype": "text/x-python",
   "name": "python",
   "nbconvert_exporter": "python",
   "pygments_lexer": "ipython3",
   "version": "3.9.9"
  },
  "orig_nbformat": 4
 },
 "nbformat": 4,
 "nbformat_minor": 2
}
