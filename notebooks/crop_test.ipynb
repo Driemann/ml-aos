{
 "cells": [
  {
   "cell_type": "code",
   "execution_count": null,
   "metadata": {},
   "outputs": [],
   "source": [
    "from ml_aos.dataloader import DavidsDonuts as Donuts\n",
    "import matplotlib.pyplot as plt"
   ]
  },
  {
   "cell_type": "markdown",
   "metadata": {},
   "source": [
    "The original images are 256x256. Note they have large borders around the central donut."
   ]
  },
  {
   "cell_type": "code",
   "execution_count": null,
   "metadata": {},
   "outputs": [],
   "source": [
    "d = Donuts()\n",
    "\n",
    "fig, axes = plt.subplots(5, 5, figsize=(10, 9), constrained_layout=True, dpi=120)\n",
    "\n",
    "for i, ax in enumerate(axes.flatten()):\n",
    "\n",
    "    img = d[i][\"image\"].squeeze()\n",
    "\n",
    "    ax.imshow(img)\n",
    "    ax.set(xticks=[], yticks=[])"
   ]
  },
  {
   "cell_type": "markdown",
   "metadata": {},
   "source": [
    "I think David probably had these large borders, because if you go down to the next power of 2 (i.e. 128x128), then you start cutting off the donuts."
   ]
  },
  {
   "cell_type": "code",
   "execution_count": null,
   "metadata": {},
   "outputs": [],
   "source": [
    "d = Donuts()\n",
    "\n",
    "fig, axes = plt.subplots(5, 5, figsize=(10, 9), constrained_layout=True, dpi=120)\n",
    "\n",
    "for i, ax in enumerate(axes.flatten()):\n",
    "\n",
    "    img = d[i][\"image\"].squeeze()\n",
    "    crop = 128 // 2\n",
    "    img = img[crop:-crop, crop:-crop]\n",
    "\n",
    "    ax.imshow(img)\n",
    "    ax.set(xticks=[], yticks=[])"
   ]
  },
  {
   "cell_type": "markdown",
   "metadata": {},
   "source": [
    "This is probably a good crop size, but the resulting images aren't a power of 2. This might create problems during downsampling. I will want to think about this some more before doing this."
   ]
  },
  {
   "cell_type": "code",
   "execution_count": null,
   "metadata": {},
   "outputs": [],
   "source": [
    "d = Donuts()\n",
    "\n",
    "fig, axes = plt.subplots(5, 5, figsize=(10, 9), constrained_layout=True, dpi=120)\n",
    "\n",
    "for i, ax in enumerate(axes.flatten()):\n",
    "\n",
    "    img = d[i][\"image\"].squeeze()\n",
    "    crop = 45\n",
    "    img = img[crop:-crop, crop:-crop]\n",
    "\n",
    "    ax.imshow(img)\n",
    "    ax.set(xticks=[], yticks=[])"
   ]
  },
  {
   "cell_type": "code",
   "execution_count": null,
   "metadata": {},
   "outputs": [],
   "source": []
  }
 ],
 "metadata": {
  "kernelspec": {
   "display_name": "Python 3.9.10 ('ml-aos-hdh9ePBz-py3.9')",
   "language": "python",
   "name": "python3"
  },
  "language_info": {
   "codemirror_mode": {
    "name": "ipython",
    "version": 3
   },
   "file_extension": ".py",
   "mimetype": "text/x-python",
   "name": "python",
   "nbconvert_exporter": "python",
   "pygments_lexer": "ipython3",
   "version": "3.9.10"
  },
  "orig_nbformat": 4,
  "vscode": {
   "interpreter": {
    "hash": "c7621bc54e99e1ff3f772c7bbef43a1313cf47b6fcb1d7d96efef7f943746a22"
   }
  }
 },
 "nbformat": 4,
 "nbformat_minor": 2
}
