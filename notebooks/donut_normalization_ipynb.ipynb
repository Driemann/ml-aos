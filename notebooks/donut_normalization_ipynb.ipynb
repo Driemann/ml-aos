{
 "cells": [
  {
   "cell_type": "markdown",
   "metadata": {},
   "source": [
    "In this notebook, I estimate the mean and standard deviation of the pixel values in the single-donut images. I will use these to normalize the donut images. I am only using the single-donut values, because eventually, I will mask out all the blends, so the blending stars won't contribute to the dynamic range of the pixels."
   ]
  },
  {
   "cell_type": "code",
   "execution_count": 1,
   "metadata": {},
   "outputs": [],
   "source": [
    "from ml_aos.dataloader import DavidsDonuts, JFsDonuts\n",
    "import numpy as np"
   ]
  },
  {
   "cell_type": "code",
   "execution_count": 2,
   "metadata": {},
   "outputs": [],
   "source": [
    "def donut_norm_stats(donut_set):\n",
    "    means = []\n",
    "    stds = []\n",
    "    for i, img in enumerate(donut_set):\n",
    "        if img[\"n_blends\"] == 0:\n",
    "            means.append(img[\"image\"].mean())\n",
    "            stds.append(img[\"image\"].std())\n",
    "        if i == 10_000:\n",
    "            break\n",
    "\n",
    "    print(f\"mean = {np.mean(means):.2f}, std = {np.mean(stds):.2f}\")"
   ]
  },
  {
   "cell_type": "code",
   "execution_count": 8,
   "metadata": {},
   "outputs": [
    {
     "name": "stdout",
     "output_type": "stream",
     "text": [
      "mean = 30.31, std = 87.73\n"
     ]
    }
   ],
   "source": [
    "donut_norm_stats(DavidsDonuts(normalize_pixels=False))"
   ]
  },
  {
   "cell_type": "code",
   "execution_count": 9,
   "metadata": {},
   "outputs": [
    {
     "name": "stdout",
     "output_type": "stream",
     "text": [
      "mean = 106.82, std = 154.10\n"
     ]
    }
   ],
   "source": [
    "donut_norm_stats(JFsDonuts(normalize_pixels=False))"
   ]
  }
 ],
 "metadata": {
  "kernelspec": {
   "display_name": "Python 3.9.10 ('ml-aos-hdh9ePBz-py3.9')",
   "language": "python",
   "name": "python3"
  },
  "language_info": {
   "codemirror_mode": {
    "name": "ipython",
    "version": 3
   },
   "file_extension": ".py",
   "mimetype": "text/x-python",
   "name": "python",
   "nbconvert_exporter": "python",
   "pygments_lexer": "ipython3",
   "version": "3.9.10"
  },
  "orig_nbformat": 4,
  "vscode": {
   "interpreter": {
    "hash": "c7621bc54e99e1ff3f772c7bbef43a1313cf47b6fcb1d7d96efef7f943746a22"
   }
  }
 },
 "nbformat": 4,
 "nbformat_minor": 2
}
